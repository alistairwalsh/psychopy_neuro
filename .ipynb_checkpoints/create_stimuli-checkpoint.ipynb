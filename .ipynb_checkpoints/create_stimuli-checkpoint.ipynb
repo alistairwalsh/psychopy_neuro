{
 "cells": [
  {
   "cell_type": "markdown",
   "metadata": {},
   "source": [
    "#Stimuli list"
   ]
  },
  {
   "cell_type": "markdown",
   "metadata": {},
   "source": [
    "<font color='Blue'>I have already created a stimuli folder to keep the images organised. The code in the next two cells shows me where I am in the directory structure and what images are available.</font>\n",
    "\n",
    "--------"
   ]
  },
  {
   "cell_type": "code",
   "execution_count": 5,
   "metadata": {
    "collapsed": false
   },
   "outputs": [
    {
     "name": "stdout",
     "output_type": "stream",
     "text": [
      "/Users/Neuromancer/Documents/psychopy_scripts/visneuro_demo/images\n"
     ]
    }
   ],
   "source": [
    "cd ~/Documents/psychopy_scripts/visneuro_demo/images"
   ]
  },
  {
   "cell_type": "code",
   "execution_count": 6,
   "metadata": {
    "collapsed": false
   },
   "outputs": [
    {
     "name": "stdout",
     "output_type": "stream",
     "text": [
      "cat_eyes.jpeg         egg_hog.jpeg          gorilla_tongue.jpeg   rat_cat.jpeg\r\n",
      "datafile.xlsx         gorilla_face.jpeg     icecream_hog.jpeg     santa_hog.jpeg\r\n",
      "ear_muffs_cat.jpeg    gorilla_fat.jpeg      marshmallow_hog.jpeg\r\n"
     ]
    }
   ],
   "source": [
    "ls"
   ]
  },
  {
   "cell_type": "markdown",
   "metadata": {},
   "source": [
    "<font color='Blue'>I want to create an excel table with all the information I need for my experiment.\n",
    "\n",
    "__Pandas__ and __Glob__ are two libraries I will use to do this.\n",
    "\n",
    "</font>\n",
    "\n",
    "------"
   ]
  },
  {
   "cell_type": "code",
   "execution_count": 7,
   "metadata": {
    "collapsed": true
   },
   "outputs": [],
   "source": [
    "import pandas as pd\n",
    "import glob"
   ]
  },
  {
   "cell_type": "code",
   "execution_count": 8,
   "metadata": {
    "collapsed": false
   },
   "outputs": [],
   "source": [
    "#this searches for any file that has the .jpeg extension in the current folder\n",
    "\n",
    "jpegs = glob.glob('*.jpeg')"
   ]
  },
  {
   "cell_type": "code",
   "execution_count": 9,
   "metadata": {
    "collapsed": false
   },
   "outputs": [
    {
     "data": {
      "text/plain": [
       "['cat_eyes.jpeg',\n",
       " 'ear_muffs_cat.jpeg',\n",
       " 'egg_hog.jpeg',\n",
       " 'gorilla_face.jpeg',\n",
       " 'gorilla_fat.jpeg',\n",
       " 'gorilla_tongue.jpeg',\n",
       " 'icecream_hog.jpeg',\n",
       " 'marshmallow_hog.jpeg',\n",
       " 'rat_cat.jpeg',\n",
       " 'santa_hog.jpeg']"
      ]
     },
     "execution_count": 9,
     "metadata": {},
     "output_type": "execute_result"
    }
   ],
   "source": [
    "#check that I have all the files\n",
    "\n",
    "jpegs"
   ]
  },
  {
   "cell_type": "markdown",
   "metadata": {},
   "source": [
    "<font color='Blue'>I was a bit inconsistent when I named the pictures. I used _gorrilla_ and _cat_ (mostly) at the start of those files but put _hog_ at the end. I could have used the str.startswith() function if I had put all of them at the start but I'll have to test for the name containing the animal instead.</font>\n"
   ]
  },
  {
   "cell_type": "code",
   "execution_count": 11,
   "metadata": {
    "collapsed": true
   },
   "outputs": [],
   "source": [
    "#I create three lists to hold the different types of pictures\n",
    "\n",
    "gorilla = []\n",
    "cat = []\n",
    "hog = []\n",
    "\n",
    "#I also want to add the folder name to each so I'll create a variable here to make it easier\n",
    "\n",
    "path = 'images/'\n",
    "\n",
    "for pic in jpegs:\n",
    "    if 'gorilla' in pic:\n",
    "        gorilla.append(path+pic)\n",
    "    elif 'cat' in pic:\n",
    "        cat.append(path+pic)\n",
    "    else:\n",
    "        hog.append(path+pic)"
   ]
  },
  {
   "cell_type": "code",
   "execution_count": 12,
   "metadata": {
    "collapsed": false
   },
   "outputs": [
    {
     "name": "stdout",
     "output_type": "stream",
     "text": [
      "['images/gorilla_face.jpeg', 'images/gorilla_fat.jpeg', 'images/gorilla_tongue.jpeg']\n",
      "['images/cat_eyes.jpeg', 'images/ear_muffs_cat.jpeg', 'images/rat_cat.jpeg']\n",
      "['images/egg_hog.jpeg', 'images/icecream_hog.jpeg', 'images/marshmallow_hog.jpeg', 'images/santa_hog.jpeg']\n"
     ]
    }
   ],
   "source": [
    "print(gorilla)\n",
    "print(cat)\n",
    "print(hog)        "
   ]
  },
  {
   "cell_type": "markdown",
   "metadata": {},
   "source": [
    "<font color='Blue'>now I have images grouped by type I'll create the arrays to use as columns in the table</font>"
   ]
  },
  {
   "cell_type": "code",
   "execution_count": 13,
   "metadata": {
    "collapsed": true
   },
   "outputs": [],
   "source": [
    "images = gorilla+cat+hog"
   ]
  },
  {
   "cell_type": "code",
   "execution_count": 14,
   "metadata": {
    "collapsed": false
   },
   "outputs": [
    {
     "data": {
      "text/plain": [
       "['images/gorilla_face.jpeg',\n",
       " 'images/gorilla_fat.jpeg',\n",
       " 'images/gorilla_tongue.jpeg',\n",
       " 'images/cat_eyes.jpeg',\n",
       " 'images/ear_muffs_cat.jpeg',\n",
       " 'images/rat_cat.jpeg',\n",
       " 'images/egg_hog.jpeg',\n",
       " 'images/icecream_hog.jpeg',\n",
       " 'images/marshmallow_hog.jpeg',\n",
       " 'images/santa_hog.jpeg']"
      ]
     },
     "execution_count": 14,
     "metadata": {},
     "output_type": "execute_result"
    }
   ],
   "source": [
    "images"
   ]
  },
  {
   "cell_type": "code",
   "execution_count": 15,
   "metadata": {
    "collapsed": true
   },
   "outputs": [],
   "source": [
    "correct_ans = ['left']*len(gorilla)+ ['right']*len(cat)+ ['up']*len(hog)"
   ]
  },
  {
   "cell_type": "code",
   "execution_count": 16,
   "metadata": {
    "collapsed": false
   },
   "outputs": [
    {
     "data": {
      "text/plain": [
       "['left', 'left', 'left', 'right', 'right', 'right', 'up', 'up', 'up', 'up']"
      ]
     },
     "execution_count": 16,
     "metadata": {},
     "output_type": "execute_result"
    }
   ],
   "source": [
    "correct_ans"
   ]
  },
  {
   "cell_type": "markdown",
   "metadata": {},
   "source": [
    "<font color='Blue'>I'm going to create some information by processing the correct_ans data using the translate dictionary</font>"
   ]
  },
  {
   "cell_type": "code",
   "execution_count": 17,
   "metadata": {
    "collapsed": false
   },
   "outputs": [],
   "source": [
    "translate = {'left':'gorilla','right':'cat','up':'hog'}\n",
    "type_of_image = [translate[x] for x in correct_ans]"
   ]
  },
  {
   "cell_type": "code",
   "execution_count": 18,
   "metadata": {
    "collapsed": false
   },
   "outputs": [
    {
     "data": {
      "text/plain": [
       "['gorilla',\n",
       " 'gorilla',\n",
       " 'gorilla',\n",
       " 'cat',\n",
       " 'cat',\n",
       " 'cat',\n",
       " 'hog',\n",
       " 'hog',\n",
       " 'hog',\n",
       " 'hog']"
      ]
     },
     "execution_count": 18,
     "metadata": {},
     "output_type": "execute_result"
    }
   ],
   "source": [
    "type_of_image"
   ]
  },
  {
   "cell_type": "markdown",
   "metadata": {},
   "source": [
    "<font color='Blue'>Now I can put these arrays together in a Pandas dataframe and save it as an excel file, important to remove the default index column that pandas adds</font>"
   ]
  },
  {
   "cell_type": "code",
   "execution_count": 19,
   "metadata": {
    "collapsed": false
   },
   "outputs": [],
   "source": [
    "datafile = pd.DataFrame({'images':images,'correct_ans':correct_ans,'type_of_image':type_of_image})"
   ]
  },
  {
   "cell_type": "code",
   "execution_count": 20,
   "metadata": {
    "collapsed": true
   },
   "outputs": [],
   "source": [
    "datafile.to_excel('datafile.xlsx',index=False)"
   ]
  },
  {
   "cell_type": "code",
   "execution_count": 21,
   "metadata": {
    "collapsed": false
   },
   "outputs": [
    {
     "name": "stdout",
     "output_type": "stream",
     "text": [
      "cat_eyes.jpeg         egg_hog.jpeg          gorilla_tongue.jpeg   rat_cat.jpeg\r\n",
      "datafile.xlsx         gorilla_face.jpeg     icecream_hog.jpeg     santa_hog.jpeg\r\n",
      "ear_muffs_cat.jpeg    gorilla_fat.jpeg      marshmallow_hog.jpeg\r\n"
     ]
    }
   ],
   "source": [
    "ls"
   ]
  },
  {
   "cell_type": "code",
   "execution_count": null,
   "metadata": {
    "collapsed": true
   },
   "outputs": [],
   "source": []
  }
 ],
 "metadata": {
  "kernelspec": {
   "display_name": "Python 2",
   "language": "python",
   "name": "python2"
  },
  "language_info": {
   "codemirror_mode": {
    "name": "ipython",
    "version": 2
   },
   "file_extension": ".py",
   "mimetype": "text/x-python",
   "name": "python",
   "nbconvert_exporter": "python",
   "pygments_lexer": "ipython2",
   "version": "2.7.10"
  }
 },
 "nbformat": 4,
 "nbformat_minor": 0
}
