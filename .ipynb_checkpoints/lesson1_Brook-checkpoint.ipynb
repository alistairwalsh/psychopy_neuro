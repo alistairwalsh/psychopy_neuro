{
 "metadata": {
  "name": ""
 },
 "nbformat": 3,
 "nbformat_minor": 0,
 "worksheets": [
  {
   "cells": [
    {
     "cell_type": "raw",
     "metadata": {},
     "source": [
      "The tidying of a data set before use is the first step in data exploration. The we look at a couple of Python data types. I have started the IPython notebook in the downloaded repository."
     ]
    },
    {
     "cell_type": "code",
     "collapsed": false,
     "input": [
      "!ls"
     ],
     "language": "python",
     "metadata": {},
     "outputs": [
      {
       "output_type": "stream",
       "stream": "stdout",
       "text": [
        "Archive.zip\r\n"
       ]
      }
     ],
     "prompt_number": 51
    },
    {
     "cell_type": "code",
     "collapsed": false,
     "input": [
      "cd Python_lesson_1/data/"
     ],
     "language": "python",
     "metadata": {},
     "outputs": [
      {
       "output_type": "stream",
       "stream": "stdout",
       "text": [
        "/Users/Wintermute/Documents/NeuralCode/psychopy_neuro/Python_lesson_1/data\n"
       ]
      }
     ],
     "prompt_number": 7
    },
    {
     "cell_type": "code",
     "collapsed": false,
     "input": [
      "!ls "
     ],
     "language": "python",
     "metadata": {},
     "outputs": [
      {
       "output_type": "stream",
       "stream": "stdout",
       "text": [
        "Archive.zip\r\n"
       ]
      }
     ],
     "prompt_number": 8
    },
    {
     "cell_type": "code",
     "collapsed": false,
     "input": [
      "import zipfile\n",
      "\n",
      "Archive =  zipfile.ZipFile('Archive.zip', 'r')\n",
      "for info in Archive.infolist():\n",
      "    print info.filename\n"
     ],
     "language": "python",
     "metadata": {},
     "outputs": [
      {
       "output_type": "stream",
       "stream": "stdout",
       "text": [
        "Archive/\n",
        "Archive/.DS_Store\n",
        "__MACOSX/\n",
        "__MACOSX/Archive/\n",
        "__MACOSX/Archive/._.DS_Store\n",
        "Archive/saccades - rested/\n",
        "Archive/saccades - rested/Part1_008 BI 201230915 - Rested part1 SACCADES.txt\n",
        "__MACOSX/Archive/saccades - rested/\n",
        "__MACOSX/Archive/saccades - rested/._Part1_008 BI 201230915 - Rested part1 SACCADES.txt\n",
        "Archive/saccades - rested/Part2_008 BI 201230915 - Rested part2 SACCADES.txt\n",
        "__MACOSX/Archive/saccades - rested/._Part2_008 BI 201230915 - Rested part2 SACCADES.txt\n",
        "Archive/saccades - rested/SMI_003SC 20130201 - Rested SACCADES.txt\n",
        "__MACOSX/Archive/saccades - rested/._SMI_003SC 20130201 - Rested SACCADES.txt\n",
        "Archive/saccades - rested/SMI_004DX 20121202 - Rested SACCADES.txt\n",
        "__MACOSX/Archive/saccades - rested/._SMI_004DX 20121202 - Rested SACCADES.txt\n",
        "Archive/saccades - rested/SMI_005ST 20130223 - Rested SACCADES.txt\n",
        "__MACOSX/Archive/saccades - rested/._SMI_005ST 20130223 - Rested SACCADES.txt\n",
        "Archive/saccades - rested/SMI_006 HX 20130413 - Rested SACCADES.txt\n",
        "__MACOSX/Archive/saccades - rested/._SMI_006 HX 20130413 - Rested SACCADES.txt\n",
        "Archive/saccades - rested/SMI_007 EW 20130427 - Rested SACCADES.txt\n",
        "__MACOSX/Archive/saccades - rested/._SMI_007 EW 20130427 - Rested SACCADES.txt\n",
        "Archive/saccades - rested/SMI_009 HB 201231027 - Rested SACCADES.txt\n",
        "__MACOSX/Archive/saccades - rested/._SMI_009 HB 201231027 - Rested SACCADES.txt\n",
        "__MACOSX/Archive/._saccades - rested\n",
        "Archive/saccades - sleep deprived/\n",
        "Archive/saccades - sleep deprived/0021_002SN 20120303 - Sleep Deprived part1 SACCADES.txt\n",
        "__MACOSX/Archive/saccades - sleep deprived/\n",
        "__MACOSX/Archive/saccades - sleep deprived/._0021_002SN 20120303 - Sleep Deprived part1 SACCADES.txt\n",
        "Archive/saccades - sleep deprived/0022_002SN 20120303 - Sleep Deprived part2 SACCADES.txt\n",
        "__MACOSX/Archive/saccades - sleep deprived/._0022_002SN 20120303 - Sleep Deprived part2 SACCADES.txt\n",
        "Archive/saccades - sleep deprived/SMI_001XS 20120326_011 - Sleep Deprived SACCADES.txt\n",
        "__MACOSX/Archive/saccades - sleep deprived/._SMI_001XS 20120326_011 - Sleep Deprived SACCADES.txt\n",
        "Archive/saccades - sleep deprived/SMI_003SC 20130119 - Sleep Deprived SACCADE.txt\n",
        "__MACOSX/Archive/saccades - sleep deprived/._SMI_003SC 20130119 - Sleep Deprived SACCADE.txt\n",
        "Archive/saccades - sleep deprived/SMI_004DX 20121208 - Sleep Deprived SACCADES.txt\n",
        "__MACOSX/Archive/saccades - sleep deprived/._SMI_004DX 20121208 - Sleep Deprived SACCADES.txt\n",
        "Archive/saccades - sleep deprived/SMI_005ST 20130323 - Sleep Deprived SACCADES.txt\n",
        "__MACOSX/Archive/saccades - sleep deprived/._SMI_005ST 20130323 - Sleep Deprived SACCADES.txt\n",
        "Archive/saccades - sleep deprived/SMI_006 HX 20130420 - Sleep Deprived SACCADES.txt\n",
        "__MACOSX/Archive/saccades - sleep deprived/._SMI_006 HX 20130420 - Sleep Deprived SACCADES.txt\n",
        "Archive/saccades - sleep deprived/SMI_007 EW 20130511 - Sleep Deprived SACCADES.txt\n",
        "__MACOSX/Archive/saccades - sleep deprived/._SMI_007 EW 20130511 - Sleep Deprived SACCADES.txt\n",
        "Archive/saccades - sleep deprived/SMI_008 BI 201230928 - Sleep Deprived SACCADE.txt\n",
        "__MACOSX/Archive/saccades - sleep deprived/._SMI_008 BI 201230928 - Sleep Deprived SACCADE.txt\n",
        "Archive/saccades - sleep deprived/SMI_009 HI 201231012 - Sleep Deprived SACCADES.txt\n",
        "__MACOSX/Archive/saccades - sleep deprived/._SMI_009 HI 201231012 - Sleep Deprived SACCADES.txt\n",
        "Archive/saccades - sleep deprived/SMI_010 ML 20131207 - Sleep Deprived SACCADES.txt\n",
        "__MACOSX/Archive/saccades - sleep deprived/._SMI_010 ML 20131207 - Sleep Deprived SACCADES.txt\n",
        "__MACOSX/Archive/._saccades - sleep deprived\n",
        "__MACOSX/._Archive\n"
       ]
      }
     ],
     "prompt_number": 44
    },
    {
     "cell_type": "code",
     "collapsed": false,
     "input": [
      "Archive.extractall()\n",
      "!ls Archive"
     ],
     "language": "python",
     "metadata": {},
     "outputs": [
      {
       "output_type": "stream",
       "stream": "stdout",
       "text": [
        "\u001b[34msaccades - rested\u001b[m\u001b[m         \u001b[34msaccades - sleep deprived\u001b[m\u001b[m\r\n"
       ]
      }
     ],
     "prompt_number": 49
    },
    {
     "cell_type": "code",
     "collapsed": false,
     "input": [
      "listfiles = !ls"
     ],
     "language": "python",
     "metadata": {},
     "outputs": [],
     "prompt_number": 3
    },
    {
     "cell_type": "code",
     "collapsed": false,
     "input": [
      "listfiles"
     ],
     "language": "python",
     "metadata": {},
     "outputs": [
      {
       "metadata": {},
       "output_type": "pyout",
       "prompt_number": 9,
       "text": [
        "['AH_Blank.txt',\n",
        " 'AH_rested.R',\n",
        " 'AH_rested_fix_broken_files.R',\n",
        " 'Amplitude_Peak_speed.jpeg',\n",
        " 'Amplitude_peak_speed_rested.jpeg',\n",
        " 'Average_speed.jpeg',\n",
        " 'Blank.txt',\n",
        " 'Conversion for ocular events.txt',\n",
        " 'README.md',\n",
        " 'RM_Blank.txt',\n",
        " 'RM_SD.R',\n",
        " 'RM_SD_fix_broken_files.R',\n",
        " 'Report_1',\n",
        " 'Report_2',\n",
        " 'Rplot2.jpeg',\n",
        " 'Rplot3.jpeg',\n",
        " 'Untitled0.ipynb',\n",
        " 'anova.R',\n",
        " 'basicplots.R',\n",
        " 'calculate_minute_averages.R',\n",
        " 'complex_figure.R',\n",
        " 'complex_two.R',\n",
        " 'create_file_list.R',\n",
        " 'create_fixed_files.R',\n",
        " 'create_minute_labels.R',\n",
        " 'create_minute_labels_remix.R',\n",
        " 'data',\n",
        " 'dataframes2xls.xls',\n",
        " 'download start time file.R',\n",
        " 'download_raw_data_dropbox.R',\n",
        " 'download_raw_data_dropbox_OSX.R',\n",
        " 'figure',\n",
        " 'git_configure.sh',\n",
        " 'load_data.R',\n",
        " 'master.R',\n",
        " 'master.csv',\n",
        " 'master_rested.csv',\n",
        " 'master_sd.csv',\n",
        " 'notes',\n",
        " 'saccades.Rproj',\n",
        " 'saccades_data_munging_master.R',\n",
        " 'saccades_data_munging_master_remix.R',\n",
        " 'start_time_machine_readable.csv',\n",
        " 'subsetting_master.R']"
       ]
      }
     ],
     "prompt_number": 9
    },
    {
     "cell_type": "code",
     "collapsed": false,
     "input": [
      "direct = 'data/saccades - rested/'"
     ],
     "language": "python",
     "metadata": {},
     "outputs": [],
     "prompt_number": 13
    },
    {
     "cell_type": "code",
     "collapsed": false,
     "input": [
      "!ls 'data/saccades - rested/'"
     ],
     "language": "python",
     "metadata": {},
     "outputs": [
      {
       "output_type": "stream",
       "stream": "stdout",
       "text": [
        "ls: direct: No such file or directory\r\n"
       ]
      }
     ],
     "prompt_number": 14
    },
    {
     "cell_type": "code",
     "collapsed": false,
     "input": [
      "!cd data/\n"
     ],
     "language": "python",
     "metadata": {},
     "outputs": [],
     "prompt_number": 19
    },
    {
     "cell_type": "code",
     "collapsed": false,
     "input": [
      "!pwd"
     ],
     "language": "python",
     "metadata": {},
     "outputs": [
      {
       "output_type": "stream",
       "stream": "stdout",
       "text": [
        "/Users/Wintermute/temp/saccades\r\n"
       ]
      }
     ],
     "prompt_number": 21
    },
    {
     "cell_type": "code",
     "collapsed": false,
     "input": [
      "cd data"
     ],
     "language": "python",
     "metadata": {},
     "outputs": [
      {
       "output_type": "stream",
       "stream": "stdout",
       "text": [
        "/Users/Wintermute/temp/saccades/data\n"
       ]
      }
     ],
     "prompt_number": 22
    },
    {
     "cell_type": "code",
     "collapsed": false,
     "input": [
      "ls"
     ],
     "language": "python",
     "metadata": {},
     "outputs": [
      {
       "output_type": "stream",
       "stream": "stdout",
       "text": [
        "Archive.zip                \u001b[34msaccades - sleep deprived\u001b[m\u001b[m/\r\n",
        "\u001b[34msaccades - rested\u001b[m\u001b[m/\r\n"
       ]
      }
     ],
     "prompt_number": 23
    },
    {
     "cell_type": "code",
     "collapsed": false,
     "input": [
      "cd saccades\\ -\\ rested\n"
     ],
     "language": "python",
     "metadata": {},
     "outputs": [
      {
       "output_type": "stream",
       "stream": "stdout",
       "text": [
        "/Users/Wintermute/temp/saccades/data/saccades - rested\n"
       ]
      }
     ],
     "prompt_number": 24
    },
    {
     "cell_type": "code",
     "collapsed": false,
     "input": [
      "ls"
     ],
     "language": "python",
     "metadata": {},
     "outputs": [
      {
       "output_type": "stream",
       "stream": "stdout",
       "text": [
        "SMI_003RB 20130201 - Rested SACCADES.txt\r\n",
        "SMI_004CW 20121202 - Rested SACCADES.txt\r\n",
        "SMI_005RS 20130223 - Rested SACCADES.txt\r\n",
        "SMI_006 JW 20130413 - Rested SACCADES.txt\r\n",
        "SMI_007 DV 20130427 - Rested SACCADES.txt\r\n",
        "SMI_008 AH 201230915 - Rested SACCADES.txt\r\n",
        "SMI_009 JA 201231027 - Rested SACCADES.txt\r\n"
       ]
      }
     ],
     "prompt_number": 25
    },
    {
     "cell_type": "code",
     "collapsed": false,
     "input": [
      "ls"
     ],
     "language": "python",
     "metadata": {},
     "outputs": [
      {
       "output_type": "stream",
       "stream": "stdout",
       "text": [
        "SMI_003RB 20130201 - Rested SACCADES.txt\r\n",
        "SMI_004CW 20121202 - Rested SACCADES.txt\r\n",
        "SMI_005RS 20130223 - Rested SACCADES.txt\r\n",
        "SMI_006JW 20130413 - Rested SACCADES.txt\r\n",
        "SMI_007 DV 20130427 - Rested SACCADES.txt\r\n",
        "SMI_008 AH 201230915 - Rested SACCADES.txt\r\n",
        "SMI_009 JA 201231027 - Rested SACCADES.txt\r\n"
       ]
      }
     ],
     "prompt_number": 27
    },
    {
     "cell_type": "code",
     "collapsed": false,
     "input": [
      "mv SMI_007\\ DV\\ 20130427\\ -\\ Rested\\ SACCADES.txt SMI_007DV\\ 20130427\\ -\\ Rested\\ SACCADES.txt"
     ],
     "language": "python",
     "metadata": {},
     "outputs": [],
     "prompt_number": 28
    },
    {
     "cell_type": "code",
     "collapsed": false,
     "input": [
      "ls"
     ],
     "language": "python",
     "metadata": {},
     "outputs": [
      {
       "output_type": "stream",
       "stream": "stdout",
       "text": [
        "SMI_003RB 20130201 - Rested SACCADES.txt\r\n",
        "SMI_004CW 20121202 - Rested SACCADES.txt\r\n",
        "SMI_005RS 20130223 - Rested SACCADES.txt\r\n",
        "SMI_006JW 20130413 - Rested SACCADES.txt\r\n",
        "SMI_007DV 20130427 - Rested SACCADES.txt\r\n",
        "SMI_008 AH 201230915 - Rested SACCADES.txt\r\n",
        "SMI_009 JA 201231027 - Rested SACCADES.txt\r\n"
       ]
      }
     ],
     "prompt_number": 29
    },
    {
     "cell_type": "code",
     "collapsed": false,
     "input": [
      "filelist = !ls"
     ],
     "language": "python",
     "metadata": {},
     "outputs": [],
     "prompt_number": 36
    },
    {
     "cell_type": "code",
     "collapsed": false,
     "input": [
      "for files in filelist:\n",
      "    files2 = files\n",
      "    if files[7]==' ':\n",
      "        files = files.split(' ',1)\n",
      "        print files[0] + files[1]"
     ],
     "language": "python",
     "metadata": {},
     "outputs": [
      {
       "output_type": "stream",
       "stream": "stdout",
       "text": [
        "SMI_004CW 20121202 - Rested SACCADES.txt\n",
        "SMI_006JW 20130413 - Rested SACCADES.txt\n",
        "SMI_009JA 201231027 - Rested SACCADES.txt\n"
       ]
      }
     ],
     "prompt_number": 47
    },
    {
     "cell_type": "code",
     "collapsed": false,
     "input": [
      "test = ['SMI_004', 'CW 20121202 - Rested SACCADES.txt']"
     ],
     "language": "python",
     "metadata": {},
     "outputs": [],
     "prompt_number": 41
    },
    {
     "cell_type": "code",
     "collapsed": false,
     "input": [
      "type(test)"
     ],
     "language": "python",
     "metadata": {},
     "outputs": [
      {
       "metadata": {},
       "output_type": "pyout",
       "prompt_number": 42,
       "text": [
        "list"
       ]
      }
     ],
     "prompt_number": 42
    },
    {
     "cell_type": "code",
     "collapsed": false,
     "input": [
      "import os\n",
      "\n",
      "for dirpath, dnames, fnames in os.walk(\"./\"):\n",
      "    for f in fnames:\n",
      "        if f.endswith(\".x\"):\n",
      "            x(os.path.join(dirpath, f))\n",
      "        elif f.endswith(\".xc\"):\n",
      "            xc(os.path.join(dirpath,f))"
     ],
     "language": "python",
     "metadata": {},
     "outputs": []
    },
    {
     "cell_type": "code",
     "collapsed": false,
     "input": [
      "pets = []"
     ],
     "language": "python",
     "metadata": {},
     "outputs": [],
     "prompt_number": 48
    },
    {
     "cell_type": "code",
     "collapsed": false,
     "input": [
      "len(pets)"
     ],
     "language": "python",
     "metadata": {},
     "outputs": [
      {
       "metadata": {},
       "output_type": "pyout",
       "prompt_number": 50,
       "text": [
        "0"
       ]
      }
     ],
     "prompt_number": 50
    },
    {
     "cell_type": "code",
     "collapsed": false,
     "input": [
      "pets = ['toby']"
     ],
     "language": "python",
     "metadata": {},
     "outputs": [],
     "prompt_number": 52
    },
    {
     "cell_type": "code",
     "collapsed": false,
     "input": [
      "pets.append(['ralph','dancer'])"
     ],
     "language": "python",
     "metadata": {},
     "outputs": [],
     "prompt_number": 56
    },
    {
     "cell_type": "code",
     "collapsed": false,
     "input": [
      "pets"
     ],
     "language": "python",
     "metadata": {},
     "outputs": [
      {
       "metadata": {},
       "output_type": "pyout",
       "prompt_number": 57,
       "text": [
        "['toby', 'missy', ['ralph', 'dancer']]"
       ]
      }
     ],
     "prompt_number": 57
    },
    {
     "cell_type": "code",
     "collapsed": false,
     "input": [
      "pets"
     ],
     "language": "python",
     "metadata": {},
     "outputs": [
      {
       "metadata": {},
       "output_type": "pyout",
       "prompt_number": 57,
       "text": [
        "['toby', 'missy', ['ralph', 'dancer']]"
       ]
      }
     ],
     "prompt_number": 57
    },
    {
     "cell_type": "code",
     "collapsed": false,
     "input": [
      "pets = ['toby','missy','ralph']"
     ],
     "language": "python",
     "metadata": {},
     "outputs": []
    },
    {
     "cell_type": "code",
     "collapsed": false,
     "input": [
      "len(pets)"
     ],
     "language": "python",
     "metadata": {},
     "outputs": [
      {
       "metadata": {},
       "output_type": "pyout",
       "prompt_number": 58,
       "text": [
        "3"
       ]
      }
     ],
     "prompt_number": 58
    },
    {
     "cell_type": "code",
     "collapsed": false,
     "input": [
      "pets[2]"
     ],
     "language": "python",
     "metadata": {},
     "outputs": [
      {
       "metadata": {},
       "output_type": "pyout",
       "prompt_number": 60,
       "text": [
        "['ralph', 'dancer']"
       ]
      }
     ],
     "prompt_number": 60
    },
    {
     "cell_type": "code",
     "collapsed": false,
     "input": [
      "pets[0][:-1]"
     ],
     "language": "python",
     "metadata": {},
     "outputs": [
      {
       "metadata": {},
       "output_type": "pyout",
       "prompt_number": 70,
       "text": [
        "'tob'"
       ]
      }
     ],
     "prompt_number": 70
    },
    {
     "cell_type": "code",
     "collapsed": false,
     "input": [
      "pets[2]"
     ],
     "language": "python",
     "metadata": {},
     "outputs": [
      {
       "metadata": {},
       "output_type": "pyout",
       "prompt_number": 64,
       "text": [
        "['ralph', 'dancer']"
       ]
      }
     ],
     "prompt_number": 64
    },
    {
     "cell_type": "code",
     "collapsed": false,
     "input": [
      "pets"
     ],
     "language": "python",
     "metadata": {},
     "outputs": [
      {
       "metadata": {},
       "output_type": "pyout",
       "prompt_number": 71,
       "text": [
        "['toby', 'missy', ['ralph', 'dancer']]"
       ]
      }
     ],
     "prompt_number": 71
    },
    {
     "cell_type": "code",
     "collapsed": false,
     "input": [
      "pets[2][0] = 'denis'"
     ],
     "language": "python",
     "metadata": {},
     "outputs": [],
     "prompt_number": 72
    },
    {
     "cell_type": "code",
     "collapsed": false,
     "input": [
      "pets"
     ],
     "language": "python",
     "metadata": {},
     "outputs": [
      {
       "metadata": {},
       "output_type": "pyout",
       "prompt_number": 73,
       "text": [
        "['toby', 'missy', ['denis', 'dancer']]"
       ]
      }
     ],
     "prompt_number": 73
    },
    {
     "cell_type": "code",
     "collapsed": false,
     "input": [
      "forin = 'toby'"
     ],
     "language": "python",
     "metadata": {},
     "outputs": [],
     "prompt_number": 74
    },
    {
     "cell_type": "code",
     "collapsed": false,
     "input": [
      "forin[1] = 'l'"
     ],
     "language": "python",
     "metadata": {},
     "outputs": [
      {
       "ename": "TypeError",
       "evalue": "'str' object does not support item assignment",
       "output_type": "pyerr",
       "traceback": [
        "\u001b[0;31m---------------------------------------------------------------------------\u001b[0m\n\u001b[0;31mTypeError\u001b[0m                                 Traceback (most recent call last)",
        "\u001b[0;32m<ipython-input-75-20368c44c103>\u001b[0m in \u001b[0;36m<module>\u001b[0;34m()\u001b[0m\n\u001b[0;32m----> 1\u001b[0;31m \u001b[0mforin\u001b[0m\u001b[0;34m[\u001b[0m\u001b[0;36m1\u001b[0m\u001b[0;34m]\u001b[0m \u001b[0;34m=\u001b[0m \u001b[0;34m'l'\u001b[0m\u001b[0;34m\u001b[0m\u001b[0m\n\u001b[0m",
        "\u001b[0;31mTypeError\u001b[0m: 'str' object does not support item assignment"
       ]
      }
     ],
     "prompt_number": 75
    },
    {
     "cell_type": "code",
     "collapsed": false,
     "input": [
      "catalog = {'toby':'blue heeler','missy':'siamese'}"
     ],
     "language": "python",
     "metadata": {},
     "outputs": [],
     "prompt_number": 1
    },
    {
     "cell_type": "code",
     "collapsed": false,
     "input": [
      "catalog"
     ],
     "language": "python",
     "metadata": {},
     "outputs": [
      {
       "metadata": {},
       "output_type": "pyout",
       "prompt_number": 2,
       "text": [
        "{'missy': 'siamese', 'toby': 'blue heeler'}"
       ]
      }
     ],
     "prompt_number": 2
    },
    {
     "cell_type": "markdown",
     "metadata": {},
     "source": [
      "##Notice the order changed##"
     ]
    },
    {
     "cell_type": "code",
     "collapsed": false,
     "input": [
      "catalog['missy']"
     ],
     "language": "python",
     "metadata": {},
     "outputs": [
      {
       "metadata": {},
       "output_type": "pyout",
       "prompt_number": 4,
       "text": [
        "'siamese'"
       ]
      }
     ],
     "prompt_number": 4
    },
    {
     "cell_type": "code",
     "collapsed": false,
     "input": [
      "sum[value] = sum.get(value, 0) + 1"
     ],
     "language": "python",
     "metadata": {},
     "outputs": []
    },
    {
     "cell_type": "code",
     "collapsed": false,
     "input": [
      "catalog['dancer']"
     ],
     "language": "python",
     "metadata": {},
     "outputs": [
      {
       "ename": "KeyError",
       "evalue": "'dancer'",
       "output_type": "pyerr",
       "traceback": [
        "\u001b[0;31m---------------------------------------------------------------------------\u001b[0m\n\u001b[0;31mKeyError\u001b[0m                                  Traceback (most recent call last)",
        "\u001b[0;32m<ipython-input-5-e9a41255a4b7>\u001b[0m in \u001b[0;36m<module>\u001b[0;34m()\u001b[0m\n\u001b[0;32m----> 1\u001b[0;31m \u001b[0mcatalog\u001b[0m\u001b[0;34m[\u001b[0m\u001b[0;34m'dancer'\u001b[0m\u001b[0;34m]\u001b[0m\u001b[0;34m\u001b[0m\u001b[0m\n\u001b[0m",
        "\u001b[0;31mKeyError\u001b[0m: 'dancer'"
       ]
      }
     ],
     "prompt_number": 5
    },
    {
     "cell_type": "code",
     "collapsed": false,
     "input": [
      "catalog['dancer'] = catalog.get('dancer', 0) + 1"
     ],
     "language": "python",
     "metadata": {},
     "outputs": [],
     "prompt_number": 7
    },
    {
     "cell_type": "code",
     "collapsed": false,
     "input": [
      "catalog"
     ],
     "language": "python",
     "metadata": {},
     "outputs": [
      {
       "metadata": {},
       "output_type": "pyout",
       "prompt_number": 8,
       "text": [
        "{'dancer': 1, 'missy': 'siamese', 'toby': 'blue heeler'}"
       ]
      }
     ],
     "prompt_number": 8
    },
    {
     "cell_type": "code",
     "collapsed": false,
     "input": [],
     "language": "python",
     "metadata": {},
     "outputs": []
    }
   ],
   "metadata": {}
  }
 ]
}