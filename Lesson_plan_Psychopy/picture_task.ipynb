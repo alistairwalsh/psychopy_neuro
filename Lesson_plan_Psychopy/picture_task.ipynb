{
 "cells": [
  {
   "cell_type": "code",
   "execution_count": 1,
   "metadata": {
    "collapsed": true
   },
   "outputs": [],
   "source": [
    "#!/usr/bin/env python2\n",
    "# -*- coding: utf-8 -*-\n",
    "\"\"\"\n",
    "This experiment was created using PsychoPy2 Experiment Builder (v1.82.01), Wed Jun  3 16:30:43 2015\n",
    "If you publish work using this script please cite the relevant PsychoPy publications\n",
    "  Peirce, JW (2007) PsychoPy - Psychophysics software in Python. Journal of Neuroscience Methods, 162(1-2), 8-13.\n",
    "  Peirce, JW (2009) Generating stimuli for neuroscience using PsychoPy. Frontiers in Neuroinformatics, 2:10. doi: 10.3389/neuro.11.010.2008\n",
    "\"\"\"\n",
    "\n",
    "from __future__ import division  # so that 1/3=0.333 instead of 1/3=0\n",
    "from psychopy import visual, core, data, event, logging, sound, gui\n",
    "from psychopy.constants import *  # things like STARTED, FINISHED\n",
    "import numpy as np  # whole numpy lib is available, prepend 'np.'\n",
    "from numpy import sin, cos, tan, log, log10, pi, average, sqrt, std, deg2rad, rad2deg, linspace, asarray\n",
    "from numpy.random import random, randint, normal, shuffle\n",
    "import os  # handy system and path functions"
   ]
  },
  {
   "cell_type": "code",
   "execution_count": 8,
   "metadata": {
    "collapsed": true
   },
   "outputs": [],
   "source": [
    "__file__ = '/Users/Neuromancer/Documents/psychopy_scripts/picture_task/picture_task.py'"
   ]
  },
  {
   "cell_type": "code",
   "execution_count": 9,
   "metadata": {
    "collapsed": false
   },
   "outputs": [],
   "source": [
    "# Ensure that relative paths start from the same directory as this script\n",
    "_thisDir = os.path.dirname(os.path.abspath(__file__))\n",
    "os.chdir(_thisDir)"
   ]
  },
  {
   "cell_type": "code",
   "execution_count": 10,
   "metadata": {
    "collapsed": false
   },
   "outputs": [
    {
     "data": {
      "text/plain": [
       "'/Users/Neuromancer/Documents/psychopy_scripts/picture_task'"
      ]
     },
     "execution_count": 10,
     "metadata": {},
     "output_type": "execute_result"
    }
   ],
   "source": [
    "_thisDir"
   ]
  },
  {
   "cell_type": "code",
   "execution_count": 11,
   "metadata": {
    "collapsed": false
   },
   "outputs": [
    {
     "name": "stderr",
     "output_type": "stream",
     "text": [
      "/Users/Neuromancer/anaconda/envs/psych/lib/python2.7/site-packages/psychopy/gui.py:48: wxPyDeprecationWarning: Using deprecated class PySimpleApp. \n",
      "  app = wx.PySimpleApp()\n"
     ]
    }
   ],
   "source": [
    "# Store info about the experiment session\n",
    "expName = u'picture_task'  # from the Builder filename that created this script\n",
    "expInfo = {'participant':'', 'session':'001'}\n",
    "dlg = gui.DlgFromDict(dictionary=expInfo, title=expName)\n",
    "if dlg.OK == False: core.quit()  # user pressed cancel\n",
    "expInfo['date'] = data.getDateStr()  # add a simple timestamp\n",
    "expInfo['expName'] = expName"
   ]
  },
  {
   "cell_type": "code",
   "execution_count": 12,
   "metadata": {
    "collapsed": true
   },
   "outputs": [],
   "source": [
    "# Data file name stem = absolute path + name; later add .psyexp, .csv, .log, etc\n",
    "filename = _thisDir + os.sep + 'data/%s_%s_%s' %(expInfo['participant'], expName, expInfo['date'])"
   ]
  },
  {
   "cell_type": "code",
   "execution_count": 14,
   "metadata": {
    "collapsed": true
   },
   "outputs": [],
   "source": [
    "# An ExperimentHandler isn't essential but helps with data saving\n",
    "thisExp = data.ExperimentHandler(name=expName, version='',\n",
    "    extraInfo=expInfo, runtimeInfo=None,\n",
    "    originPath=None,\n",
    "    savePickle=True, saveWideText=True,\n",
    "    dataFileName=filename)\n",
    "#save a log file for detail verbose info\n",
    "logFile = logging.LogFile(filename+'.log', level=logging.EXP)\n",
    "logging.console.setLevel(logging.WARNING)  # this outputs to the screen, not a file"
   ]
  },
  {
   "cell_type": "code",
   "execution_count": 15,
   "metadata": {
    "collapsed": true
   },
   "outputs": [],
   "source": [
    "endExpNow = False  # flag for 'escape' or other condition => quit the exp"
   ]
  },
  {
   "cell_type": "code",
   "execution_count": 16,
   "metadata": {
    "collapsed": true
   },
   "outputs": [],
   "source": [
    "# Start Code - component code to be run before the window creation\n",
    "\n",
    "# Setup the Window\n",
    "win = visual.Window(size=(1440, 900), fullscr=True, screen=0, allowGUI=False, allowStencil=False,\n",
    "    monitor='testMonitor', color=[0,0,0], colorSpace='rgb',\n",
    "    blendMode='avg', useFBO=True,\n",
    "    )\n",
    "# store frame rate of monitor if we can measure it successfully\n",
    "expInfo['frameRate']=win.getActualFrameRate()\n",
    "if expInfo['frameRate']!=None:\n",
    "    frameDur = 1.0/round(expInfo['frameRate'])\n",
    "else:\n",
    "    frameDur = 1.0/60.0 # couldn't get a reliable measure so guess"
   ]
  },
  {
   "cell_type": "code",
   "execution_count": null,
   "metadata": {
    "collapsed": true
   },
   "outputs": [],
   "source": [
    "# Initialize components for Routine \"instructions\"\n",
    "instructionsClock = core.Clock()\n",
    "text = visual.TextStim(win=win, ori=0, name='text',\n",
    "    text=u\"Do Phil's task\\nOK?\",    font=u'Arial',\n",
    "    pos=[0, 0], height=0.1, wrapWidth=None,\n",
    "    color=u'white', colorSpace='rgb', opacity=1,\n",
    "    depth=0.0)"
   ]
  },
  {
   "cell_type": "code",
   "execution_count": null,
   "metadata": {
    "collapsed": true
   },
   "outputs": [],
   "source": [
    "# Initialize components for Routine \"trial\"\n",
    "trialClock = core.Clock()\n",
    "ISI = core.StaticPeriod(win=win, screenHz=expInfo['frameRate'], name='ISI')\n",
    "image = visual.ImageStim(win=win, name='image',\n",
    "    image='sin', mask=None,\n",
    "    ori=0, pos=[0, 0], size=[1, 1],\n",
    "    color=[1,1,1], colorSpace='rgb', opacity=1,\n",
    "    flipHoriz=False, flipVert=False,\n",
    "    texRes=128, interpolate=True, depth=-1.0)"
   ]
  },
  {
   "cell_type": "code",
   "execution_count": null,
   "metadata": {
    "collapsed": true
   },
   "outputs": [],
   "source": [
    "# Create some handy timers\n",
    "globalClock = core.Clock()  # to track the time since experiment started\n",
    "routineTimer = core.CountdownTimer()  # to track time remaining of each (non-slip) routine "
   ]
  },
  {
   "cell_type": "code",
   "execution_count": null,
   "metadata": {
    "collapsed": true
   },
   "outputs": [],
   "source": [
    "#------Prepare to start Routine \"instructions\"-------\n",
    "t = 0\n",
    "instructionsClock.reset()  # clock \n",
    "frameN = -1\n",
    "routineTimer.add(5.000000)\n",
    "# update component parameters for each repeat\n",
    "# keep track of which components have finished\n",
    "instructionsComponents = []\n",
    "instructionsComponents.append(text)\n",
    "for thisComponent in instructionsComponents:\n",
    "    if hasattr(thisComponent, 'status'):\n",
    "        thisComponent.status = NOT_STARTED"
   ]
  },
  {
   "cell_type": "code",
   "execution_count": null,
   "metadata": {
    "collapsed": true
   },
   "outputs": [],
   "source": [
    "#-------Start Routine \"instructions\"-------\n",
    "continueRoutine = True\n",
    "while continueRoutine and routineTimer.getTime() > 0:\n",
    "    # get current time\n",
    "    t = instructionsClock.getTime()\n",
    "    frameN = frameN + 1  # number of completed frames (so 0 is the first frame)\n",
    "    # update/draw components on each frame\n",
    "    \n",
    "    # *text* updates\n",
    "    if t >= 0.0 and text.status == NOT_STARTED:\n",
    "        # keep track of start time/frame for later\n",
    "        text.tStart = t  # underestimates by a little under one frame\n",
    "        text.frameNStart = frameN  # exact frame index\n",
    "        text.setAutoDraw(True)\n",
    "    if text.status == STARTED and t >= (0.0 + (5-win.monitorFramePeriod*0.75)): #most of one frame period left\n",
    "        text.setAutoDraw(False)\n",
    "    \n",
    "    # check if all components have finished\n",
    "    if not continueRoutine:  # a component has requested a forced-end of Routine\n",
    "        break\n",
    "    continueRoutine = False  # will revert to True if at least one component still running\n",
    "    for thisComponent in instructionsComponents:\n",
    "        if hasattr(thisComponent, \"status\") and thisComponent.status != FINISHED:\n",
    "            continueRoutine = True\n",
    "            break  # at least one component has not yet finished\n",
    "    \n",
    "    # check for quit (the Esc key)\n",
    "    if endExpNow or event.getKeys(keyList=[\"escape\"]):\n",
    "        core.quit()\n",
    "    \n",
    "    # refresh the screen\n",
    "    if continueRoutine:  # don't flip if this routine is over or we'll get a blank screen\n",
    "        win.flip()"
   ]
  },
  {
   "cell_type": "code",
   "execution_count": null,
   "metadata": {
    "collapsed": true
   },
   "outputs": [],
   "source": [
    "#-------Ending Routine \"instructions\"-------\n",
    "for thisComponent in instructionsComponents:\n",
    "    if hasattr(thisComponent, \"setAutoDraw\"):\n",
    "        thisComponent.setAutoDraw(False)\n",
    "\n",
    "# set up handler to look after randomisation of conditions etc\n",
    "trials = data.TrialHandler(nReps=5, method='random', \n",
    "    extraInfo=expInfo, originPath=None,\n",
    "    trialList=data.importConditions(u'stim_list.xlsx'),\n",
    "    seed=None, name='trials')\n",
    "thisExp.addLoop(trials)  # add the loop to the experiment\n",
    "thisTrial = trials.trialList[0]  # so we can initialise stimuli with some values\n",
    "# abbreviate parameter names if possible (e.g. rgb=thisTrial.rgb)\n",
    "if thisTrial != None:\n",
    "    for paramName in thisTrial.keys():\n",
    "        exec(paramName + '= thisTrial.' + paramName)"
   ]
  },
  {
   "cell_type": "code",
   "execution_count": null,
   "metadata": {
    "collapsed": true
   },
   "outputs": [],
   "source": [
    "for thisTrial in trials:\n",
    "    currentLoop = trials\n",
    "    # abbreviate parameter names if possible (e.g. rgb = thisTrial.rgb)\n",
    "    if thisTrial != None:\n",
    "        for paramName in thisTrial.keys():\n",
    "            exec(paramName + '= thisTrial.' + paramName)\n",
    "  "
   ]
  },
  {
   "cell_type": "code",
   "execution_count": null,
   "metadata": {
    "collapsed": true
   },
   "outputs": [],
   "source": [
    "  \n",
    "    #------Prepare to start Routine \"trial\"-------\n",
    "    t = 0\n",
    "    trialClock.reset()  # clock \n",
    "    frameN = -1\n",
    "    routineTimer.add(2.000000)\n",
    "    # update component parameters for each repeat\n",
    "    image.setImage(Image)\n",
    "    # keep track of which components have finished\n",
    "    trialComponents = []\n",
    "    trialComponents.append(ISI)\n",
    "    trialComponents.append(image)\n",
    "    for thisComponent in trialComponents:\n",
    "        if hasattr(thisComponent, 'status'):\n",
    "            thisComponent.status = NOT_STARTED\n",
    " "
   ]
  },
  {
   "cell_type": "code",
   "execution_count": null,
   "metadata": {
    "collapsed": true
   },
   "outputs": [],
   "source": [
    "   \n",
    "    #-------Start Routine \"trial\"-------\n",
    "    continueRoutine = True\n",
    "    while continueRoutine and routineTimer.getTime() > 0:\n",
    "        # get current time\n",
    "        t = trialClock.getTime()\n",
    "        frameN = frameN + 1  # number of completed frames (so 0 is the first frame)\n",
    "        # update/draw components on each frame\n",
    "        \n",
    "        # *image* updates\n",
    "        if t >= 0.0 and image.status == NOT_STARTED:\n",
    "            # keep track of start time/frame for later\n",
    "            image.tStart = t  # underestimates by a little under one frame\n",
    "            image.frameNStart = frameN  # exact frame index\n",
    "            image.setAutoDraw(True)\n",
    "        if image.status == STARTED and t >= (0.0 + (2.0-win.monitorFramePeriod*0.75)): #most of one frame period left\n",
    "            image.setAutoDraw(False)\n",
    "        # *ISI* period\n",
    "        if t >= 0.0 and ISI.status == NOT_STARTED:\n",
    "            # keep track of start time/frame for later\n",
    "            ISI.tStart = t  # underestimates by a little under one frame\n",
    "            ISI.frameNStart = frameN  # exact frame index\n",
    "            ISI.start(0.5)\n",
    "        elif ISI.status == STARTED: #one frame should pass before updating params and completing\n",
    "            ISI.complete() #finish the static period\n",
    "        \n",
    "        # check if all components have finished\n",
    "        if not continueRoutine:  # a component has requested a forced-end of Routine\n",
    "            break\n",
    "        continueRoutine = False  # will revert to True if at least one component still running\n",
    "        for thisComponent in trialComponents:\n",
    "            if hasattr(thisComponent, \"status\") and thisComponent.status != FINISHED:\n",
    "                continueRoutine = True\n",
    "                break  # at least one component has not yet finished\n",
    "        \n",
    "        # check for quit (the Esc key)\n",
    "        if endExpNow or event.getKeys(keyList=[\"escape\"]):\n",
    "            core.quit()\n",
    "        \n",
    "        # refresh the screen\n",
    "        if continueRoutine:  # don't flip if this routine is over or we'll get a blank screen\n",
    "            win.flip()\n",
    "    \n",
    "    #-------Ending Routine \"trial\"-------\n",
    "    for thisComponent in trialComponents:\n",
    "        if hasattr(thisComponent, \"setAutoDraw\"):\n",
    "            thisComponent.setAutoDraw(False)\n",
    "    thisExp.nextEntry()\n",
    "    \n",
    "# completed 5 repeats of 'trials'\n",
    "\n",
    "win.close()\n",
    "core.quit()"
   ]
  }
 ],
 "metadata": {
  "kernelspec": {
   "display_name": "Python 2",
   "language": "python",
   "name": "python2"
  },
  "language_info": {
   "codemirror_mode": {
    "name": "ipython",
    "version": 2
   },
   "file_extension": ".py",
   "mimetype": "text/x-python",
   "name": "python",
   "nbconvert_exporter": "python",
   "pygments_lexer": "ipython2",
   "version": "2.7.9"
  }
 },
 "nbformat": 4,
 "nbformat_minor": 0
}
