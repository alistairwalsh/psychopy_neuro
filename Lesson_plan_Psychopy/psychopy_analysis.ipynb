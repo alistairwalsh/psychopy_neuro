{
 "cells": [
  {
   "cell_type": "code",
   "execution_count": 3,
   "metadata": {
    "collapsed": false
   },
   "outputs": [
    {
     "name": "stdout",
     "output_type": "stream",
     "text": [
      "/Users/Neuromancer/Documents/psychopy_scripts/picture_task\n"
     ]
    }
   ],
   "source": [
    "cd /Users/Neuromancer/Documents/psychopy_scripts/picture_task/\n"
   ]
  },
  {
   "cell_type": "code",
   "execution_count": 4,
   "metadata": {
    "collapsed": false
   },
   "outputs": [
    {
     "name": "stdout",
     "output_type": "stream",
     "text": [
      "cat_eyes.jpeg            gorilla_face.jpeg        \u001b[34mimages\u001b[m\u001b[m/                  rat_cat.jpeg\r\n",
      "\u001b[34mdata\u001b[m\u001b[m/                    gorilla_fat.jpeg         marshmallow_hog.jpeg     santa_hog.jpeg\r\n",
      "ear_muffs_cat.jpeg       gorilla_tongue.jpeg      picture_task.psyexp      stim_list.xlsx\r\n",
      "egg_hog.jpeg             icecream_hog.jpeg        picture_task_lastrun.py\r\n"
     ]
    }
   ],
   "source": [
    "ls"
   ]
  },
  {
   "cell_type": "code",
   "execution_count": 6,
   "metadata": {
    "collapsed": false
   },
   "outputs": [],
   "source": [
    "import glob"
   ]
  },
  {
   "cell_type": "code",
   "execution_count": 9,
   "metadata": {
    "collapsed": false
   },
   "outputs": [],
   "source": [
    "pic_list = glob.glob('*.jpeg')"
   ]
  },
  {
   "cell_type": "code",
   "execution_count": 8,
   "metadata": {
    "collapsed": true
   },
   "outputs": [],
   "source": [
    "import pandas as pd"
   ]
  },
  {
   "cell_type": "code",
   "execution_count": 13,
   "metadata": {
    "collapsed": false
   },
   "outputs": [],
   "source": [
    "df = pd.DataFrame({'Image':pic_list,'CorrAns':''*len(pic_list)})"
   ]
  },
  {
   "cell_type": "code",
   "execution_count": 12,
   "metadata": {
    "collapsed": false
   },
   "outputs": [
    {
     "data": {
      "text/plain": [
       "True"
      ]
     },
     "execution_count": 12,
     "metadata": {},
     "output_type": "execute_result"
    }
   ],
   "source": [
    "'cat' in 'cat_eyes.jpeg'"
   ]
  },
  {
   "cell_type": "code",
   "execution_count": 16,
   "metadata": {
    "collapsed": false
   },
   "outputs": [
    {
     "name": "stdout",
     "output_type": "stream",
     "text": [
      "pic is cat\n",
      "pic is cat\n",
      "pic is hog\n",
      "pic is gorilla\n",
      "pic is gorilla\n",
      "pic is gorilla\n",
      "pic is hog\n",
      "pic is hog\n",
      "pic is cat\n",
      "pic is hog\n",
      "['cat_eyes.jpeg', 'ear_muffs_cat.jpeg', 'rat_cat.jpeg'] ['egg_hog.jpeg', 'icecream_hog.jpeg', 'marshmallow_hog.jpeg', 'santa_hog.jpeg'] ['gorilla_face.jpeg', 'gorilla_fat.jpeg', 'gorilla_tongue.jpeg']\n"
     ]
    }
   ],
   "source": [
    "cat = []\n",
    "\n",
    "hog = []\n",
    "\n",
    "gorilla = []\n",
    "\n",
    "for pic in df.Image:\n",
    "    if 'cat' in pic:\n",
    "        print('pic is cat')\n",
    "        cat.append(pic)\n",
    "        \n",
    "    elif 'hog' in pic:\n",
    "        print('pic is hog')\n",
    "        hog.append(pic)\n",
    "    else:\n",
    "        print('pic is gorilla')\n",
    "        gorilla.append(pic)\n",
    "print(cat,hog,gorilla)"
   ]
  },
  {
   "cell_type": "code",
   "execution_count": 28,
   "metadata": {
    "collapsed": true
   },
   "outputs": [],
   "source": [
    "Image = cat+hog+gorilla"
   ]
  },
  {
   "cell_type": "code",
   "execution_count": 29,
   "metadata": {
    "collapsed": false
   },
   "outputs": [
    {
     "data": {
      "text/plain": [
       "['cat_eyes.jpeg',\n",
       " 'ear_muffs_cat.jpeg',\n",
       " 'rat_cat.jpeg',\n",
       " 'egg_hog.jpeg',\n",
       " 'icecream_hog.jpeg',\n",
       " 'marshmallow_hog.jpeg',\n",
       " 'santa_hog.jpeg',\n",
       " 'gorilla_face.jpeg',\n",
       " 'gorilla_fat.jpeg',\n",
       " 'gorilla_tongue.jpeg']"
      ]
     },
     "execution_count": 29,
     "metadata": {},
     "output_type": "execute_result"
    }
   ],
   "source": [
    "Image"
   ]
  },
  {
   "cell_type": "code",
   "execution_count": 19,
   "metadata": {
    "collapsed": false
   },
   "outputs": [
    {
     "data": {
      "text/html": [
       "<div style=\"max-height:1000px;max-width:1500px;overflow:auto;\">\n",
       "<table border=\"1\" class=\"dataframe\">\n",
       "  <thead>\n",
       "    <tr style=\"text-align: right;\">\n",
       "      <th></th>\n",
       "      <th>CorrAns</th>\n",
       "      <th>Image</th>\n",
       "    </tr>\n",
       "  </thead>\n",
       "  <tbody>\n",
       "    <tr>\n",
       "      <th>0</th>\n",
       "      <td></td>\n",
       "      <td>cat_eyes.jpeg</td>\n",
       "    </tr>\n",
       "    <tr>\n",
       "      <th>1</th>\n",
       "      <td></td>\n",
       "      <td>ear_muffs_cat.jpeg</td>\n",
       "    </tr>\n",
       "    <tr>\n",
       "      <th>2</th>\n",
       "      <td></td>\n",
       "      <td>egg_hog.jpeg</td>\n",
       "    </tr>\n",
       "    <tr>\n",
       "      <th>3</th>\n",
       "      <td></td>\n",
       "      <td>gorilla_face.jpeg</td>\n",
       "    </tr>\n",
       "    <tr>\n",
       "      <th>4</th>\n",
       "      <td></td>\n",
       "      <td>gorilla_fat.jpeg</td>\n",
       "    </tr>\n",
       "    <tr>\n",
       "      <th>5</th>\n",
       "      <td></td>\n",
       "      <td>gorilla_tongue.jpeg</td>\n",
       "    </tr>\n",
       "    <tr>\n",
       "      <th>6</th>\n",
       "      <td></td>\n",
       "      <td>icecream_hog.jpeg</td>\n",
       "    </tr>\n",
       "    <tr>\n",
       "      <th>7</th>\n",
       "      <td></td>\n",
       "      <td>marshmallow_hog.jpeg</td>\n",
       "    </tr>\n",
       "    <tr>\n",
       "      <th>8</th>\n",
       "      <td></td>\n",
       "      <td>rat_cat.jpeg</td>\n",
       "    </tr>\n",
       "    <tr>\n",
       "      <th>9</th>\n",
       "      <td></td>\n",
       "      <td>santa_hog.jpeg</td>\n",
       "    </tr>\n",
       "  </tbody>\n",
       "</table>\n",
       "</div>"
      ],
      "text/plain": [
       "  CorrAns                 Image\n",
       "0                 cat_eyes.jpeg\n",
       "1            ear_muffs_cat.jpeg\n",
       "2                  egg_hog.jpeg\n",
       "3             gorilla_face.jpeg\n",
       "4              gorilla_fat.jpeg\n",
       "5           gorilla_tongue.jpeg\n",
       "6             icecream_hog.jpeg\n",
       "7          marshmallow_hog.jpeg\n",
       "8                  rat_cat.jpeg\n",
       "9                santa_hog.jpeg"
      ]
     },
     "execution_count": 19,
     "metadata": {},
     "output_type": "execute_result"
    }
   ],
   "source": [
    "df"
   ]
  },
  {
   "cell_type": "code",
   "execution_count": 30,
   "metadata": {
    "collapsed": false
   },
   "outputs": [],
   "source": [
    "id_list = (['cat']*3)+(['hog']*4)+(['gorilla']*3)"
   ]
  },
  {
   "cell_type": "code",
   "execution_count": 31,
   "metadata": {
    "collapsed": false
   },
   "outputs": [],
   "source": [
    "CorrAns = (['left']*3)+(['space']*4)+(['right']*3)"
   ]
  },
  {
   "cell_type": "code",
   "execution_count": 32,
   "metadata": {
    "collapsed": true
   },
   "outputs": [],
   "source": [
    "df = pd.DataFrame({'Image':Image,'CorrAns':CorrAns,'Id':id_list})"
   ]
  },
  {
   "cell_type": "code",
   "execution_count": 33,
   "metadata": {
    "collapsed": false
   },
   "outputs": [
    {
     "data": {
      "text/html": [
       "<div style=\"max-height:1000px;max-width:1500px;overflow:auto;\">\n",
       "<table border=\"1\" class=\"dataframe\">\n",
       "  <thead>\n",
       "    <tr style=\"text-align: right;\">\n",
       "      <th></th>\n",
       "      <th>CorrAns</th>\n",
       "      <th>Id</th>\n",
       "      <th>Image</th>\n",
       "    </tr>\n",
       "  </thead>\n",
       "  <tbody>\n",
       "    <tr>\n",
       "      <th>0</th>\n",
       "      <td>left</td>\n",
       "      <td>cat</td>\n",
       "      <td>cat_eyes.jpeg</td>\n",
       "    </tr>\n",
       "    <tr>\n",
       "      <th>1</th>\n",
       "      <td>left</td>\n",
       "      <td>cat</td>\n",
       "      <td>ear_muffs_cat.jpeg</td>\n",
       "    </tr>\n",
       "    <tr>\n",
       "      <th>2</th>\n",
       "      <td>left</td>\n",
       "      <td>cat</td>\n",
       "      <td>rat_cat.jpeg</td>\n",
       "    </tr>\n",
       "    <tr>\n",
       "      <th>3</th>\n",
       "      <td>space</td>\n",
       "      <td>hog</td>\n",
       "      <td>egg_hog.jpeg</td>\n",
       "    </tr>\n",
       "    <tr>\n",
       "      <th>4</th>\n",
       "      <td>space</td>\n",
       "      <td>hog</td>\n",
       "      <td>icecream_hog.jpeg</td>\n",
       "    </tr>\n",
       "    <tr>\n",
       "      <th>5</th>\n",
       "      <td>space</td>\n",
       "      <td>hog</td>\n",
       "      <td>marshmallow_hog.jpeg</td>\n",
       "    </tr>\n",
       "    <tr>\n",
       "      <th>6</th>\n",
       "      <td>space</td>\n",
       "      <td>hog</td>\n",
       "      <td>santa_hog.jpeg</td>\n",
       "    </tr>\n",
       "    <tr>\n",
       "      <th>7</th>\n",
       "      <td>right</td>\n",
       "      <td>gorilla</td>\n",
       "      <td>gorilla_face.jpeg</td>\n",
       "    </tr>\n",
       "    <tr>\n",
       "      <th>8</th>\n",
       "      <td>right</td>\n",
       "      <td>gorilla</td>\n",
       "      <td>gorilla_fat.jpeg</td>\n",
       "    </tr>\n",
       "    <tr>\n",
       "      <th>9</th>\n",
       "      <td>right</td>\n",
       "      <td>gorilla</td>\n",
       "      <td>gorilla_tongue.jpeg</td>\n",
       "    </tr>\n",
       "  </tbody>\n",
       "</table>\n",
       "</div>"
      ],
      "text/plain": [
       "  CorrAns       Id                 Image\n",
       "0    left      cat         cat_eyes.jpeg\n",
       "1    left      cat    ear_muffs_cat.jpeg\n",
       "2    left      cat          rat_cat.jpeg\n",
       "3   space      hog          egg_hog.jpeg\n",
       "4   space      hog     icecream_hog.jpeg\n",
       "5   space      hog  marshmallow_hog.jpeg\n",
       "6   space      hog        santa_hog.jpeg\n",
       "7   right  gorilla     gorilla_face.jpeg\n",
       "8   right  gorilla      gorilla_fat.jpeg\n",
       "9   right  gorilla   gorilla_tongue.jpeg"
      ]
     },
     "execution_count": 33,
     "metadata": {},
     "output_type": "execute_result"
    }
   ],
   "source": [
    "df"
   ]
  },
  {
   "cell_type": "code",
   "execution_count": 36,
   "metadata": {
    "collapsed": true
   },
   "outputs": [],
   "source": [
    "df.to_excel('images_stim.xlsx',index=False)"
   ]
  },
  {
   "cell_type": "code",
   "execution_count": 35,
   "metadata": {
    "collapsed": false
   },
   "outputs": [
    {
     "name": "stdout",
     "output_type": "stream",
     "text": [
      "cat_eyes.jpeg            gorilla_face.jpeg        \u001b[34mimages\u001b[m\u001b[m/                  picture_task_lastrun.py\r\n",
      "\u001b[34mdata\u001b[m\u001b[m/                    gorilla_fat.jpeg         images_stim.xlsx         rat_cat.jpeg\r\n",
      "ear_muffs_cat.jpeg       gorilla_tongue.jpeg      marshmallow_hog.jpeg     santa_hog.jpeg\r\n",
      "egg_hog.jpeg             icecream_hog.jpeg        picture_task.psyexp      stim_list.xlsx\r\n"
     ]
    }
   ],
   "source": [
    "ls"
   ]
  },
  {
   "cell_type": "code",
   "execution_count": 37,
   "metadata": {
    "collapsed": false
   },
   "outputs": [
    {
     "name": "stdout",
     "output_type": "stream",
     "text": [
      "cat_eyes.jpeg            gorilla_face.jpeg        \u001b[34mimages\u001b[m\u001b[m/                  picture_task_lastrun.py\r\n",
      "\u001b[34mdata\u001b[m\u001b[m/                    gorilla_fat.jpeg         images_stim.xlsx         rat_cat.jpeg\r\n",
      "ear_muffs_cat.jpeg       gorilla_tongue.jpeg      marshmallow_hog.jpeg     santa_hog.jpeg\r\n",
      "egg_hog.jpeg             icecream_hog.jpeg        picture_task.psyexp      stim_list.xlsx\r\n"
     ]
    }
   ],
   "source": [
    "ls"
   ]
  },
  {
   "cell_type": "code",
   "execution_count": 38,
   "metadata": {
    "collapsed": false
   },
   "outputs": [
    {
     "name": "stdout",
     "output_type": "stream",
     "text": [
      "\u001b[30m\u001b[43mdb\u001b[m\u001b[m/\r\n"
     ]
    }
   ],
   "source": [
    "ls /data/"
   ]
  },
  {
   "cell_type": "code",
   "execution_count": 39,
   "metadata": {
    "collapsed": false
   },
   "outputs": [
    {
     "name": "stdout",
     "output_type": "stream",
     "text": [
      "/Users/Neuromancer/Documents/psychopy_scripts/picture_task\r\n"
     ]
    }
   ],
   "source": [
    "!pwd"
   ]
  },
  {
   "cell_type": "code",
   "execution_count": 41,
   "metadata": {
    "collapsed": false
   },
   "outputs": [
    {
     "name": "stdout",
     "output_type": "stream",
     "text": [
      "001_picture_task_2015_Jun_10_1637.csv    002_picture_task_2015_Jun_10_1638.csv\r\n",
      "001_picture_task_2015_Jun_10_1637.log    002_picture_task_2015_Jun_10_1638.log\r\n",
      "001_picture_task_2015_Jun_10_1637.psydat 002_picture_task_2015_Jun_10_1638.psydat\r\n"
     ]
    }
   ],
   "source": [
    "!ls data/"
   ]
  },
  {
   "cell_type": "code",
   "execution_count": 50,
   "metadata": {
    "collapsed": false
   },
   "outputs": [],
   "source": [
    "df2 = pd.read_csv('data/002_picture_task_2015_Jun_10_1638.csv')"
   ]
  },
  {
   "cell_type": "code",
   "execution_count": 58,
   "metadata": {
    "collapsed": false
   },
   "outputs": [],
   "source": [
    "df2 = df2.drop([0,1],0)"
   ]
  },
  {
   "cell_type": "code",
   "execution_count": 52,
   "metadata": {
    "collapsed": true
   },
   "outputs": [],
   "source": [
    "%matplotlib inline"
   ]
  },
  {
   "cell_type": "code",
   "execution_count": 53,
   "metadata": {
    "collapsed": true
   },
   "outputs": [],
   "source": [
    "import matplotlib.pyplot as plt"
   ]
  },
  {
   "cell_type": "code",
   "execution_count": 59,
   "metadata": {
    "collapsed": false
   },
   "outputs": [
    {
     "data": {
      "text/plain": [
       "<matplotlib.axes._subplots.AxesSubplot at 0x106ae9470>"
      ]
     },
     "execution_count": 59,
     "metadata": {},
     "output_type": "execute_result"
    },
    {
     "data": {
      "image/png": "[encoded data removed]",
      "text/plain": [
       "<matplotlib.figure.Figure at 0x106af1cf8>"
      ]
     },
     "metadata": {},
     "output_type": "display_data"
    }
   ],
   "source": [
    "df2['key_resp_4.rt'].plot()"
   ]
  },
  {
   "cell_type": "code",
   "execution_count": 67,
   "metadata": {
    "collapsed": false
   },
   "outputs": [
    {
     "data": {
      "image/png": "[encoded data removed]",
      "text/plain": [
       "<matplotlib.figure.Figure at 0x107496358>"
      ]
     },
     "metadata": {},
     "output_type": "display_data"
    }
   ],
   "source": [
    "graph1 = df2.groupby('Id')['key_resp_4.rt'].plot()"
   ]
  },
  {
   "cell_type": "code",
   "execution_count": 61,
   "metadata": {
    "collapsed": false
   },
   "outputs": [
    {
     "data": {
      "text/html": [
       "<div style=\"max-height:1000px;max-width:1500px;overflow:auto;\">\n",
       "<table border=\"1\" class=\"dataframe\">\n",
       "  <thead>\n",
       "    <tr style=\"text-align: right;\">\n",
       "      <th></th>\n",
       "      <th>Image</th>\n",
       "      <th>CorrAns</th>\n",
       "      <th>Id</th>\n",
       "      <th>trials.thisRepN</th>\n",
       "      <th>trials.thisTrialN</th>\n",
       "      <th>trials.thisN</th>\n",
       "      <th>trials.thisIndex</th>\n",
       "      <th>key_resp_3.keys</th>\n",
       "      <th>key_resp_3.rt</th>\n",
       "      <th>key_resp_2.keys</th>\n",
       "      <th>key_resp_2.rt</th>\n",
       "      <th>key_resp_4.keys</th>\n",
       "      <th>key_resp_4.corr</th>\n",
       "      <th>key_resp_4.rt</th>\n",
       "      <th>date</th>\n",
       "      <th>frameRate</th>\n",
       "      <th>expName</th>\n",
       "      <th>session</th>\n",
       "      <th>participant</th>\n",
       "      <th>Unnamed: 19</th>\n",
       "    </tr>\n",
       "  </thead>\n",
       "  <tbody>\n",
       "    <tr>\n",
       "      <th>2</th>\n",
       "      <td>icecream_hog.jpeg</td>\n",
       "      <td>space</td>\n",
       "      <td>hog</td>\n",
       "      <td>0</td>\n",
       "      <td>0</td>\n",
       "      <td>0</td>\n",
       "      <td>4</td>\n",
       "      <td>NaN</td>\n",
       "      <td>NaN</td>\n",
       "      <td>NaN</td>\n",
       "      <td>NaN</td>\n",
       "      <td>space</td>\n",
       "      <td>1</td>\n",
       "      <td>2.202496</td>\n",
       "      <td>2015_Jun_10_1638</td>\n",
       "      <td>59.902883</td>\n",
       "      <td>picture_task</td>\n",
       "      <td>1</td>\n",
       "      <td>2</td>\n",
       "      <td>NaN</td>\n",
       "    </tr>\n",
       "    <tr>\n",
       "      <th>3</th>\n",
       "      <td>ear_muffs_cat.jpeg</td>\n",
       "      <td>left</td>\n",
       "      <td>cat</td>\n",
       "      <td>0</td>\n",
       "      <td>1</td>\n",
       "      <td>1</td>\n",
       "      <td>1</td>\n",
       "      <td>NaN</td>\n",
       "      <td>NaN</td>\n",
       "      <td>NaN</td>\n",
       "      <td>NaN</td>\n",
       "      <td>left</td>\n",
       "      <td>1</td>\n",
       "      <td>1.045591</td>\n",
       "      <td>2015_Jun_10_1638</td>\n",
       "      <td>59.902883</td>\n",
       "      <td>picture_task</td>\n",
       "      <td>1</td>\n",
       "      <td>2</td>\n",
       "      <td>NaN</td>\n",
       "    </tr>\n",
       "    <tr>\n",
       "      <th>4</th>\n",
       "      <td>egg_hog.jpeg</td>\n",
       "      <td>space</td>\n",
       "      <td>hog</td>\n",
       "      <td>0</td>\n",
       "      <td>2</td>\n",
       "      <td>2</td>\n",
       "      <td>3</td>\n",
       "      <td>NaN</td>\n",
       "      <td>NaN</td>\n",
       "      <td>NaN</td>\n",
       "      <td>NaN</td>\n",
       "      <td>space</td>\n",
       "      <td>1</td>\n",
       "      <td>0.810965</td>\n",
       "      <td>2015_Jun_10_1638</td>\n",
       "      <td>59.902883</td>\n",
       "      <td>picture_task</td>\n",
       "      <td>1</td>\n",
       "      <td>2</td>\n",
       "      <td>NaN</td>\n",
       "    </tr>\n",
       "    <tr>\n",
       "      <th>5</th>\n",
       "      <td>gorilla_face.jpeg</td>\n",
       "      <td>right</td>\n",
       "      <td>gorilla</td>\n",
       "      <td>0</td>\n",
       "      <td>3</td>\n",
       "      <td>3</td>\n",
       "      <td>7</td>\n",
       "      <td>NaN</td>\n",
       "      <td>NaN</td>\n",
       "      <td>NaN</td>\n",
       "      <td>NaN</td>\n",
       "      <td>right</td>\n",
       "      <td>1</td>\n",
       "      <td>0.678637</td>\n",
       "      <td>2015_Jun_10_1638</td>\n",
       "      <td>59.902883</td>\n",
       "      <td>picture_task</td>\n",
       "      <td>1</td>\n",
       "      <td>2</td>\n",
       "      <td>NaN</td>\n",
       "    </tr>\n",
       "    <tr>\n",
       "      <th>6</th>\n",
       "      <td>cat_eyes.jpeg</td>\n",
       "      <td>left</td>\n",
       "      <td>cat</td>\n",
       "      <td>0</td>\n",
       "      <td>4</td>\n",
       "      <td>4</td>\n",
       "      <td>0</td>\n",
       "      <td>NaN</td>\n",
       "      <td>NaN</td>\n",
       "      <td>NaN</td>\n",
       "      <td>NaN</td>\n",
       "      <td>left</td>\n",
       "      <td>1</td>\n",
       "      <td>1.062441</td>\n",
       "      <td>2015_Jun_10_1638</td>\n",
       "      <td>59.902883</td>\n",
       "      <td>picture_task</td>\n",
       "      <td>1</td>\n",
       "      <td>2</td>\n",
       "      <td>NaN</td>\n",
       "    </tr>\n",
       "    <tr>\n",
       "      <th>7</th>\n",
       "      <td>rat_cat.jpeg</td>\n",
       "      <td>left</td>\n",
       "      <td>cat</td>\n",
       "      <td>0</td>\n",
       "      <td>5</td>\n",
       "      <td>5</td>\n",
       "      <td>2</td>\n",
       "      <td>NaN</td>\n",
       "      <td>NaN</td>\n",
       "      <td>NaN</td>\n",
       "      <td>NaN</td>\n",
       "      <td>left</td>\n",
       "      <td>1</td>\n",
       "      <td>0.895625</td>\n",
       "      <td>2015_Jun_10_1638</td>\n",
       "      <td>59.902883</td>\n",
       "      <td>picture_task</td>\n",
       "      <td>1</td>\n",
       "      <td>2</td>\n",
       "      <td>NaN</td>\n",
       "    </tr>\n",
       "    <tr>\n",
       "      <th>8</th>\n",
       "      <td>gorilla_tongue.jpeg</td>\n",
       "      <td>right</td>\n",
       "      <td>gorilla</td>\n",
       "      <td>0</td>\n",
       "      <td>6</td>\n",
       "      <td>6</td>\n",
       "      <td>9</td>\n",
       "      <td>NaN</td>\n",
       "      <td>NaN</td>\n",
       "      <td>NaN</td>\n",
       "      <td>NaN</td>\n",
       "      <td>right</td>\n",
       "      <td>1</td>\n",
       "      <td>1.263069</td>\n",
       "      <td>2015_Jun_10_1638</td>\n",
       "      <td>59.902883</td>\n",
       "      <td>picture_task</td>\n",
       "      <td>1</td>\n",
       "      <td>2</td>\n",
       "      <td>NaN</td>\n",
       "    </tr>\n",
       "    <tr>\n",
       "      <th>9</th>\n",
       "      <td>marshmallow_hog.jpeg</td>\n",
       "      <td>space</td>\n",
       "      <td>hog</td>\n",
       "      <td>0</td>\n",
       "      <td>7</td>\n",
       "      <td>7</td>\n",
       "      <td>5</td>\n",
       "      <td>NaN</td>\n",
       "      <td>NaN</td>\n",
       "      <td>NaN</td>\n",
       "      <td>NaN</td>\n",
       "      <td>space</td>\n",
       "      <td>1</td>\n",
       "      <td>2.297925</td>\n",
       "      <td>2015_Jun_10_1638</td>\n",
       "      <td>59.902883</td>\n",
       "      <td>picture_task</td>\n",
       "      <td>1</td>\n",
       "      <td>2</td>\n",
       "      <td>NaN</td>\n",
       "    </tr>\n",
       "    <tr>\n",
       "      <th>10</th>\n",
       "      <td>gorilla_fat.jpeg</td>\n",
       "      <td>right</td>\n",
       "      <td>gorilla</td>\n",
       "      <td>0</td>\n",
       "      <td>8</td>\n",
       "      <td>8</td>\n",
       "      <td>8</td>\n",
       "      <td>NaN</td>\n",
       "      <td>NaN</td>\n",
       "      <td>NaN</td>\n",
       "      <td>NaN</td>\n",
       "      <td>right</td>\n",
       "      <td>1</td>\n",
       "      <td>0.895764</td>\n",
       "      <td>2015_Jun_10_1638</td>\n",
       "      <td>59.902883</td>\n",
       "      <td>picture_task</td>\n",
       "      <td>1</td>\n",
       "      <td>2</td>\n",
       "      <td>NaN</td>\n",
       "    </tr>\n",
       "    <tr>\n",
       "      <th>11</th>\n",
       "      <td>santa_hog.jpeg</td>\n",
       "      <td>space</td>\n",
       "      <td>hog</td>\n",
       "      <td>0</td>\n",
       "      <td>9</td>\n",
       "      <td>9</td>\n",
       "      <td>6</td>\n",
       "      <td>NaN</td>\n",
       "      <td>NaN</td>\n",
       "      <td>NaN</td>\n",
       "      <td>NaN</td>\n",
       "      <td>space</td>\n",
       "      <td>1</td>\n",
       "      <td>1.079211</td>\n",
       "      <td>2015_Jun_10_1638</td>\n",
       "      <td>59.902883</td>\n",
       "      <td>picture_task</td>\n",
       "      <td>1</td>\n",
       "      <td>2</td>\n",
       "      <td>NaN</td>\n",
       "    </tr>\n",
       "  </tbody>\n",
       "</table>\n",
       "</div>"
      ],
      "text/plain": [
       "                   Image CorrAns       Id  trials.thisRepN  trials.thisTrialN  \\\n",
       "2      icecream_hog.jpeg   space      hog                0                  0   \n",
       "3     ear_muffs_cat.jpeg    left      cat                0                  1   \n",
       "4           egg_hog.jpeg   space      hog                0                  2   \n",
       "5      gorilla_face.jpeg   right  gorilla                0                  3   \n",
       "6          cat_eyes.jpeg    left      cat                0                  4   \n",
       "7           rat_cat.jpeg    left      cat                0                  5   \n",
       "8    gorilla_tongue.jpeg   right  gorilla                0                  6   \n",
       "9   marshmallow_hog.jpeg   space      hog                0                  7   \n",
       "10      gorilla_fat.jpeg   right  gorilla                0                  8   \n",
       "11        santa_hog.jpeg   space      hog                0                  9   \n",
       "\n",
       "    trials.thisN  trials.thisIndex key_resp_3.keys  key_resp_3.rt  \\\n",
       "2              0                 4             NaN            NaN   \n",
       "3              1                 1             NaN            NaN   \n",
       "4              2                 3             NaN            NaN   \n",
       "5              3                 7             NaN            NaN   \n",
       "6              4                 0             NaN            NaN   \n",
       "7              5                 2             NaN            NaN   \n",
       "8              6                 9             NaN            NaN   \n",
       "9              7                 5             NaN            NaN   \n",
       "10             8                 8             NaN            NaN   \n",
       "11             9                 6             NaN            NaN   \n",
       "\n",
       "   key_resp_2.keys  key_resp_2.rt key_resp_4.keys  key_resp_4.corr  \\\n",
       "2              NaN            NaN           space                1   \n",
       "3              NaN            NaN            left                1   \n",
       "4              NaN            NaN           space                1   \n",
       "5              NaN            NaN           right                1   \n",
       "6              NaN            NaN            left                1   \n",
       "7              NaN            NaN            left                1   \n",
       "8              NaN            NaN           right                1   \n",
       "9              NaN            NaN           space                1   \n",
       "10             NaN            NaN           right                1   \n",
       "11             NaN            NaN           space                1   \n",
       "\n",
       "    key_resp_4.rt              date  frameRate       expName  session  \\\n",
       "2        2.202496  2015_Jun_10_1638  59.902883  picture_task        1   \n",
       "3        1.045591  2015_Jun_10_1638  59.902883  picture_task        1   \n",
       "4        0.810965  2015_Jun_10_1638  59.902883  picture_task        1   \n",
       "5        0.678637  2015_Jun_10_1638  59.902883  picture_task        1   \n",
       "6        1.062441  2015_Jun_10_1638  59.902883  picture_task        1   \n",
       "7        0.895625  2015_Jun_10_1638  59.902883  picture_task        1   \n",
       "8        1.263069  2015_Jun_10_1638  59.902883  picture_task        1   \n",
       "9        2.297925  2015_Jun_10_1638  59.902883  picture_task        1   \n",
       "10       0.895764  2015_Jun_10_1638  59.902883  picture_task        1   \n",
       "11       1.079211  2015_Jun_10_1638  59.902883  picture_task        1   \n",
       "\n",
       "    participant  Unnamed: 19  \n",
       "2             2          NaN  \n",
       "3             2          NaN  \n",
       "4             2          NaN  \n",
       "5             2          NaN  \n",
       "6             2          NaN  \n",
       "7             2          NaN  \n",
       "8             2          NaN  \n",
       "9             2          NaN  \n",
       "10            2          NaN  \n",
       "11            2          NaN  "
      ]
     },
     "execution_count": 61,
     "metadata": {},
     "output_type": "execute_result"
    }
   ],
   "source": [
    "df2"
   ]
  },
  {
   "cell_type": "code",
   "execution_count": 72,
   "metadata": {
    "collapsed": false
   },
   "outputs": [
    {
     "data": {
      "text/plain": [
       "[Index(['cat', 'gorilla', 'hog'], dtype='object')]"
      ]
     },
     "execution_count": 72,
     "metadata": {},
     "output_type": "execute_result"
    }
   ],
   "source": [
    "graph1.axes"
   ]
  },
  {
   "cell_type": "code",
   "execution_count": null,
   "metadata": {
    "collapsed": true
   },
   "outputs": [],
   "source": []
  }
 ],
 "metadata": {
  "kernelspec": {
   "display_name": "Python 3",
   "language": "python",
   "name": "python3"
  },
  "language_info": {
   "codemirror_mode": {
    "name": "ipython",
    "version": 3
   },
   "file_extension": ".py",
   "mimetype": "text/x-python",
   "name": "python",
   "nbconvert_exporter": "python",
   "pygments_lexer": "ipython3",
   "version": "3.4.3"
  }
 },
 "nbformat": 4,
 "nbformat_minor": 0
}
